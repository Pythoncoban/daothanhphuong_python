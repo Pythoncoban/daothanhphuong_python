{
 "cells": [
  {
   "cell_type": "code",
   "execution_count": null,
   "id": "1b7705b3",
   "metadata": {},
   "outputs": [],
   "source": [
    "\"\"\"\n",
    "Viết class NhanVien gồm các thuộc tính:\n",
    "+ Tên\n",
    "+ Tuổi\n",
    "+ Địa chỉ\n",
    "+ Tiền lương\n",
    "+ Tổng số giờ làm\n",
    "\n",
    "Và các phương thức:\n",
    "- Phương thức __init__()\n",
    "- print_info() : In ra tất cả các thông tin của nhân viên\n",
    "- tinh_thuong(): Tính toán và trả về số tiền thưởng của nhân viên theo công thức sau:\n",
    "Nếu tổng số giờ làm của nhân viên >=200 thì thưởng = lương * 20%\n",
    "Nếu tổng số giờ làm của nhân viên <200 và >=100 thì thưởng = lương * 10%\n",
    "Nếu tổng số giờ làm của nhân viên <100 thì thưởng = 0\n",
    "\"\"\""
   ]
  },
  {
   "cell_type": "code",
   "execution_count": 8,
   "id": "3cf0f41d",
   "metadata": {},
   "outputs": [
    {
     "name": "stdout",
     "output_type": "stream",
     "text": [
      "Phuong\n",
      "39\n",
      "Cầu Giấy\n",
      "20000000\n",
      "250\n",
      "Money_bonus:  4000000.0\n"
     ]
    }
   ],
   "source": [
    "class NhanVien:\n",
    "    def __init__(self, name, age, address, salary, doing_time):\n",
    "        self.name = name\n",
    "        self.age = age\n",
    "        self.address = address\n",
    "        self.salary = salary\n",
    "        self.doing_time = doing_time\n",
    "    def print_info(self):\n",
    "        print(self.name)\n",
    "        print(self.age)\n",
    "        print(self.address)\n",
    "        print(self.salary)\n",
    "        print(self.doing_time)\n",
    "    def tinh_thuong(self):\n",
    "        if self.doing_time >= 200:\n",
    "            print(\"Money_bonus: \", self.salary*0.2)\n",
    "        elif     self.doing_time >= 100:\n",
    "            print(\"Money_bonus: \", self.salary*0.1)\n",
    "        else:     print(f\"Money_bonus: 0\")\n",
    "\n",
    "staff1 = NhanVien('Phuong', 39, 'Cầu Giấy', 20000000, 250)\n",
    "staff1.print_info()\n",
    "staff1.tinh_thuong()"
   ]
  }
 ],
 "metadata": {
  "kernelspec": {
   "display_name": "Python 3 (ipykernel)",
   "language": "python",
   "name": "python3"
  },
  "language_info": {
   "codemirror_mode": {
    "name": "ipython",
    "version": 3
   },
   "file_extension": ".py",
   "mimetype": "text/x-python",
   "name": "python",
   "nbconvert_exporter": "python",
   "pygments_lexer": "ipython3",
   "version": "3.11.4"
  }
 },
 "nbformat": 4,
 "nbformat_minor": 5
}
