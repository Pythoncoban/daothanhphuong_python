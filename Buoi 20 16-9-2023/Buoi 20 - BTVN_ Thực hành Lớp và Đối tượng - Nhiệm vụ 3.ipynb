{
 "cells": [
  {
   "cell_type": "code",
   "execution_count": null,
   "id": "a42fa0c7",
   "metadata": {},
   "outputs": [],
   "source": [
    "\"\"\"\n",
    "Tạo class có tên Equation gồm có các thuộc tính và phương thức sau:\n",
    "+ Thuộc tính: number1, number2\n",
    "+ Phương thức:\n",
    "- Phương thức tạo __init()__\n",
    "- print_info(): dùng để hiển thị number1, number2\n",
    "- addition(): dùng để cộng number1, number2\n",
    "- subtract(): trừ number1, number2\n",
    "- multi(): dùng để nhân number1, number2\n",
    "- division(): dùng để chia number1, number2.\n",
    "\n",
    "Sau khi tạo class, khởi tạo một object Equation và in ra kết quả tính toán từ các hàm thực hiện phép tính\n",
    "\"\"\""
   ]
  },
  {
   "cell_type": "code",
   "execution_count": 7,
   "id": "236e6976-0294-4925-baf0-ff40969e7ce0",
   "metadata": {},
   "outputs": [
    {
     "name": "stdout",
     "output_type": "stream",
     "text": [
      "number1: 9, number2: 3\n",
      "9 + 3 = 12\n",
      "9 - 3 = 6\n",
      "9 * 3 = 27\n",
      "9 / 3 = 3.0\n"
     ]
    }
   ],
   "source": [
    "class Equation:\n",
    "    def __init__(self, number1, number2):\n",
    "        self.number1 = number1\n",
    "        self.number2 = number2\n",
    "    def print_info(self):\n",
    "        print(f\"number1: {self.number1}, number2: {self.number2}\")\n",
    "    def addition(self):\n",
    "        print(f\"{self.number1} + {self.number2} = {self.number1 + self.number2}\")\n",
    "    def subtract(self):\n",
    "        print(f\"{self.number1} - {self.number2} = {self.number1 - self.number2}\")\n",
    "    def multi(self):\n",
    "        print(f\"{self.number1} * {self.number2} = {self.number1 * self.number2}\")\n",
    "    def division(self):\n",
    "        print(f\"{self.number1} / {self.number2} = {self.number1 / self.number2}\")\n",
    "\n",
    "ex1 = Equation(9, 3)\n",
    "ex1.print_info()\n",
    "ex1.addition()\n",
    "ex1.subtract()\n",
    "ex1.multi()\n",
    "ex1.division()\n"
   ]
  }
 ],
 "metadata": {
  "kernelspec": {
   "display_name": "Python 3 (ipykernel)",
   "language": "python",
   "name": "python3"
  },
  "language_info": {
   "codemirror_mode": {
    "name": "ipython",
    "version": 3
   },
   "file_extension": ".py",
   "mimetype": "text/x-python",
   "name": "python",
   "nbconvert_exporter": "python",
   "pygments_lexer": "ipython3",
   "version": "3.11.4"
  }
 },
 "nbformat": 4,
 "nbformat_minor": 5
}
