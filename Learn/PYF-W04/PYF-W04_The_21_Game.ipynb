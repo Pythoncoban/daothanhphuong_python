{
 "cells": [
  {
   "cell_type": "code",
   "execution_count": 10,
   "id": "bce89a6f-c2f3-4c87-a993-27af274b6c39",
   "metadata": {},
   "outputs": [
    {
     "name": "stdout",
     "output_type": "stream",
     "text": [
      "The Computer play firstly: \n",
      "Computer choice: 3\n",
      "Current number:  3\n"
     ]
    },
    {
     "name": "stdin",
     "output_type": "stream",
     "text": [
      "Please enter Human choice (1,2,3):  3\n"
     ]
    },
    {
     "name": "stdout",
     "output_type": "stream",
     "text": [
      "Current number:  6\n",
      "computer choice: 2\n",
      "Current number:  8\n"
     ]
    },
    {
     "name": "stdin",
     "output_type": "stream",
     "text": [
      "Please enter your choice in (1,2,3):  3\n"
     ]
    },
    {
     "name": "stdout",
     "output_type": "stream",
     "text": [
      "Current number:  11\n",
      "computer choice: 2\n",
      "Current number:  13\n"
     ]
    },
    {
     "name": "stdin",
     "output_type": "stream",
     "text": [
      "Please enter your choice in (1,2,3):  1\n"
     ]
    },
    {
     "name": "stdout",
     "output_type": "stream",
     "text": [
      "Current number:  14\n",
      "computer choice: 1\n",
      "Current number:  15\n"
     ]
    },
    {
     "name": "stdin",
     "output_type": "stream",
     "text": [
      "Please enter your choice in (1,2,3):  3\n"
     ]
    },
    {
     "name": "stdout",
     "output_type": "stream",
     "text": [
      "Current number:  18\n",
      "computer choice: 2\n",
      "Current number:  20\n"
     ]
    },
    {
     "name": "stdin",
     "output_type": "stream",
     "text": [
      "Please enter your choice in (1,2,3):  3\n"
     ]
    },
    {
     "name": "stdout",
     "output_type": "stream",
     "text": [
      "Current number:  23\n",
      "Game over, Human False!\n"
     ]
    },
    {
     "name": "stdin",
     "output_type": "stream",
     "text": [
      "Do you want play again! (Yes -> enter \"y\") n\n"
     ]
    }
   ],
   "source": [
    "continue_choice = \"y\"\n",
    "choice =(\"1\", \"2\", \"3\")\n",
    "while continue_choice == \"y\":\n",
    "    import random\n",
    "    current_number = 0\n",
    "    current_player = random.randint(0, 1)\n",
    "    if current_player == 0:\n",
    "        print(\"The human play firstly: \")\n",
    "        player_choice = input(\"Please enter your choice (1,2,3): \")\n",
    "        while choice.count(player_choice) == 0:\n",
    "            player_choice = input(\"Please enter your choise (1,2,3): \")\n",
    "        current_number += int(player_choice)\n",
    "        print(\"Current number: \",current_number)\n",
    "        print(\"computer choice: \", end =\"\")\n",
    "        computer_choice = random.randint(1,3)\n",
    "        print(computer_choice)\n",
    "        current_number += int(computer_choice)\n",
    "        print(\"Current number: \",current_number)\n",
    "        while True: \n",
    "            player_choice = input(\"Please enter your choice (1,2,3): \")\n",
    "            while choice.count(player_choice) == 0:\n",
    "                player_choice = input(\"Please enter your choise in (1,2,3): \")\n",
    "            current_number += int(player_choice)\n",
    "            print(\"Current number: \",current_number)\n",
    "            if current_number >= 21:\n",
    "                print(\"Game over, Human False!\")\n",
    "                break\n",
    "            print(\"computer choice: \", end =\"\")\n",
    "            computer_choice = random.randint(1,3)\n",
    "            print(computer_choice)\n",
    "            current_number += int(computer_choice)\n",
    "            print(\"Current number: \",current_number)\n",
    "            if current_number >= 21:\n",
    "                print(\"Congratulation human player!\")\n",
    "                break           \n",
    "    else:  \n",
    "        print(\"The Computer play firstly: \")\n",
    "        print(\"Computer choice: \", end =\"\")\n",
    "        computer_choice = random.randint(1,3)\n",
    "        print(computer_choice)\n",
    "        current_number += int(computer_choice)\n",
    "        print(\"Current number: \",current_number)\n",
    "        player_choice = input(\"Please enter Human choice (1,2,3): \")\n",
    "        while choice.count(player_choice) == 0:\n",
    "            player_choice = input(\"Please enter your choise in (1,2,3): \")\n",
    "        current_number += int(player_choice)\n",
    "        print(\"Current number: \",current_number)\n",
    "        while True: \n",
    "            print(\"computer choice: \", end =\"\")\n",
    "            computer_choice =random.randint(1,3)\n",
    "            print(computer_choice)\n",
    "            current_number += int(computer_choice)\n",
    "            print(\"Current number: \",current_number)\n",
    "            if current_number >= 21:\n",
    "                print(\"Congratulation human player!\")\n",
    "                break\n",
    "            player_choice = input(\"Please enter your choice in (1,2,3): \")\n",
    "            while choice.count(player_choice) == 0:\n",
    "                player_choice = input(\"Please enter your choise in (1,2,3): \")\n",
    "            current_number += int(player_choice)\n",
    "            print(\"Current number: \",current_number)\n",
    "            if current_number >= 21:\n",
    "                print(\"Game over, Human False!\")\n",
    "                break\n",
    "           \n",
    "    continue_choice = input(\"Do you want play again! (Yes -> enter \\\"y\\\")\")\n",
    "    if continue_choice == \"y\":\n",
    "        continue\n",
    "    else: break    \n",
    "        "
   ]
  }
 ],
 "metadata": {
  "kernelspec": {
   "display_name": "Python 3 (ipykernel)",
   "language": "python",
   "name": "python3"
  },
  "language_info": {
   "codemirror_mode": {
    "name": "ipython",
    "version": 3
   },
   "file_extension": ".py",
   "mimetype": "text/x-python",
   "name": "python",
   "nbconvert_exporter": "python",
   "pygments_lexer": "ipython3",
   "version": "3.11.4"
  }
 },
 "nbformat": 4,
 "nbformat_minor": 5
}
