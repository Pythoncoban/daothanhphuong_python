{
 "cells": [
  {
   "cell_type": "code",
   "execution_count": 2,
   "id": "b1bdcc7a-9f6c-4e77-afca-b079ed660354",
   "metadata": {},
   "outputs": [
    {
     "name": "stdin",
     "output_type": "stream",
     "text": [
      "Please enter the distance to stop drawing 30\n"
     ]
    }
   ],
   "source": [
    "import turtle\n",
    "t = turtle.Turtle()\n",
    "distance = int(input(\"Please enter the distance to stop drawing\"))\n",
    "d = 3\n",
    "t.forward(d)\n",
    "while True:\n",
    "    d += 0.5\n",
    "    t.left(30)\n",
    "    t.forward(d)\n",
    "    if t.distance(0,0) >= distance:\n",
    "        break"
   ]
  }
 ],
 "metadata": {
  "kernelspec": {
   "display_name": "Python 3 (ipykernel)",
   "language": "python",
   "name": "python3"
  },
  "language_info": {
   "codemirror_mode": {
    "name": "ipython",
    "version": 3
   },
   "file_extension": ".py",
   "mimetype": "text/x-python",
   "name": "python",
   "nbconvert_exporter": "python",
   "pygments_lexer": "ipython3",
   "version": "3.11.4"
  }
 },
 "nbformat": 4,
 "nbformat_minor": 5
}
