{
 "cells": [
  {
   "cell_type": "code",
   "execution_count": 1,
   "id": "24019686-9473-46d9-a812-1f52465c5a5e",
   "metadata": {},
   "outputs": [
    {
     "name": "stdin",
     "output_type": "stream",
     "text": [
      "Please enter the usd_money num:  20\n",
      "Please enter the rate of USD/VNĐ:  22000\n"
     ]
    },
    {
     "name": "stdout",
     "output_type": "stream",
     "text": [
      "The VND_money is: 440000.0 VNĐ\n"
     ]
    }
   ],
   "source": [
    "usd_money = float(input(\"Please enter the usd_money num: \"))\n",
    "rate = float(input(\"Please enter the rate of USD/VNĐ: \"))\n",
    "print(f\"The VND_money is: {usd_money*rate} VNĐ\")"
   ]
  }
 ],
 "metadata": {
  "kernelspec": {
   "display_name": "Python 3 (ipykernel)",
   "language": "python",
   "name": "python3"
  },
  "language_info": {
   "codemirror_mode": {
    "name": "ipython",
    "version": 3
   },
   "file_extension": ".py",
   "mimetype": "text/x-python",
   "name": "python",
   "nbconvert_exporter": "python",
   "pygments_lexer": "ipython3",
   "version": "3.11.4"
  }
 },
 "nbformat": 4,
 "nbformat_minor": 5
}
