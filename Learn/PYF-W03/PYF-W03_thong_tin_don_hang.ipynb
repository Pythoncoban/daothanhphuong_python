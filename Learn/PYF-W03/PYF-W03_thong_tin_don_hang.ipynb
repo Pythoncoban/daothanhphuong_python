{
 "cells": [
  {
   "cell_type": "code",
   "execution_count": 7,
   "id": "ad1546cf-4795-4ef3-88f1-ab291725fdf3",
   "metadata": {},
   "outputs": [
    {
     "name": "stdin",
     "output_type": "stream",
     "text": [
      "Please enter total_money: $ 20\n"
     ]
    },
    {
     "name": "stdout",
     "output_type": "stream",
     "text": [
      "Pay_money is: 20.0 $\n"
     ]
    }
   ],
   "source": [
    "total_money = float(input(\"Please enter total_money: $\"))\n",
    "pay_money = 0\n",
    "if total_money >= 150:\n",
    "    pay_money = total_money - 50\n",
    "elif total_money >= 100:\n",
    "    pay_money = total_money - 25\n",
    "elif total_money >= 75:\n",
    "    pay_money = total_money - 15\n",
    "else: pay_money = total_money\n",
    "print(f\"Pay_money is: {pay_money} $\")"
   ]
  }
 ],
 "metadata": {
  "kernelspec": {
   "display_name": "Python 3 (ipykernel)",
   "language": "python",
   "name": "python3"
  },
  "language_info": {
   "codemirror_mode": {
    "name": "ipython",
    "version": 3
   },
   "file_extension": ".py",
   "mimetype": "text/x-python",
   "name": "python",
   "nbconvert_exporter": "python",
   "pygments_lexer": "ipython3",
   "version": "3.11.4"
  }
 },
 "nbformat": 4,
 "nbformat_minor": 5
}
