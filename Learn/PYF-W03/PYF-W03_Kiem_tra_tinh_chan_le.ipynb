{
 "cells": [
  {
   "cell_type": "code",
   "execution_count": null,
   "id": "6504f1f3-a04b-49fc-a5c9-a59f27d210dd",
   "metadata": {},
   "outputs": [],
   "source": [
    "a = input(\"Please enter the number checking EVEN/ODD: \")\n",
    "if a % 2 == 0:\n",
    "    print('EVEN')\n",
    "elif a % 2 == 1:\n",
    "    print('ODD')\n",
    "else:\n",
    "    print('Not Natural number')"
   ]
  }
 ],
 "metadata": {
  "kernelspec": {
   "display_name": "Python 3 (ipykernel)",
   "language": "python",
   "name": "python3"
  },
  "language_info": {
   "codemirror_mode": {
    "name": "ipython",
    "version": 3
   },
   "file_extension": ".py",
   "mimetype": "text/x-python",
   "name": "python",
   "nbconvert_exporter": "python",
   "pygments_lexer": "ipython3",
   "version": "3.11.4"
  }
 },
 "nbformat": 4,
 "nbformat_minor": 5
}
