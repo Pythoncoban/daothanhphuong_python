{
 "cells": [
  {
   "cell_type": "code",
   "execution_count": 1,
   "id": "de5753b9-aa08-4647-9023-cfe778603f79",
   "metadata": {},
   "outputs": [
    {
     "name": "stdin",
     "output_type": "stream",
     "text": [
      "Nhập vào chiều cao cm:  170\n",
      "Nhập vào cân nặng:  68\n"
     ]
    },
    {
     "name": "stdout",
     "output_type": "stream",
     "text": [
      "Bình thường\n"
     ]
    }
   ],
   "source": [
    "chieu_cao = float(input(\"Nhập vào chiều cao cm: \"))\n",
    "can_nang = float(input(\"Nhập vào cân nặng: \"))\n",
    "BMI = can_nang / ((chieu_cao/100) * (chieu_cao/100))\n",
    "if BMI < 16:\n",
    "    print(\"Gầy cấp độ III\")\n",
    "elif BMI < 17:\n",
    "    print(\"Gầy cấp độ II\")\n",
    "elif BMI < 18.5:\n",
    "    print(\"Gầy cấp độ I\")\n",
    "elif BMI < 25:\n",
    "    print(\"Bình thường\")\n",
    "elif BMI < 30:\n",
    "    print(\"Thừa cân\")\n",
    "elif BMI < 35:\n",
    "    print(\"Béo phì cấp độ I\")\n",
    "elif BMI < 40:\n",
    "    print(\"Béo phì cấp độ II\")\n",
    "else: print(\"Béo phì cấp độ III\")   "
   ]
  }
 ],
 "metadata": {
  "kernelspec": {
   "display_name": "Python 3 (ipykernel)",
   "language": "python",
   "name": "python3"
  },
  "language_info": {
   "codemirror_mode": {
    "name": "ipython",
    "version": 3
   },
   "file_extension": ".py",
   "mimetype": "text/x-python",
   "name": "python",
   "nbconvert_exporter": "python",
   "pygments_lexer": "ipython3",
   "version": "3.11.4"
  }
 },
 "nbformat": 4,
 "nbformat_minor": 5
}
