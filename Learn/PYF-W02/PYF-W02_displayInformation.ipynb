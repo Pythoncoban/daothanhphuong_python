{
 "cells": [
  {
   "cell_type": "code",
   "execution_count": 2,
   "id": "b2b0064d-c3d6-42f2-8d83-66fc74576db8",
   "metadata": {},
   "outputs": [
    {
     "name": "stdout",
     "output_type": "stream",
     "text": [
      "Họ và tên học viên: Đào Thanh Phương\n",
      "Ngày sinh: 12/08/1984\n",
      "Địa chỉ: Trung Hòa - Cầu Giấy - Hà Nội\n",
      "Mục đích đến với Python: Tìm hiểu về ngôn ngữ lập trình CNTT phục vụ công việc và định hướng nghề nghiệp\n"
     ]
    }
   ],
   "source": [
    "print(\"\"\"Họ và tên học viên: Đào Thanh Phương\n",
    "Ngày sinh: 12/08/1984\n",
    "Địa chỉ: Trung Hòa - Cầu Giấy - Hà Nội\n",
    "Mục đích đến với Python: Tìm hiểu về ngôn ngữ lập trình CNTT phục vụ công việc và định hướng nghề nghiệp\"\"\")"
   ]
  }
 ],
 "metadata": {
  "kernelspec": {
   "display_name": "Python 3 (ipykernel)",
   "language": "python",
   "name": "python3"
  },
  "language_info": {
   "codemirror_mode": {
    "name": "ipython",
    "version": 3
   },
   "file_extension": ".py",
   "mimetype": "text/x-python",
   "name": "python",
   "nbconvert_exporter": "python",
   "pygments_lexer": "ipython3",
   "version": "3.11.4"
  }
 },
 "nbformat": 4,
 "nbformat_minor": 5
}
