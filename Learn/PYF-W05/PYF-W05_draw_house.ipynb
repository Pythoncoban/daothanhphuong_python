{
 "cells": [
  {
   "cell_type": "code",
   "execution_count": null,
   "id": "b1b7edc4-493a-42af-856e-739a82eb7a29",
   "metadata": {},
   "outputs": [],
   "source": [
    "# import turtle and initialize turtle var\n",
    "import turtle\n",
    "t = turtle.Turtle()\n",
    "t.hideturtle()\n",
    "t.pencolor(\"Blue\")\n",
    "\n",
    "# Def\n",
    "def rectange(color, width, length, a):\n",
    "    t.fillcolor(color)\n",
    "    t.begin_fill()\n",
    "    for i in range(2):\n",
    "        t.forward(width)\n",
    "        t.left(90)\n",
    "        t.forward(length)\n",
    "        t.left(90)\n",
    "    t.end_fill()\n",
    "    if a == 1:\n",
    "        t.up()\n",
    "        t.goto(t.xcor()+ width//3, t.ycor()+ length//3 )\n",
    "        t.down()\n",
    "        t.fillcolor(\"White\")\n",
    "        t.begin_fill()\n",
    "        for i in range(2):\n",
    "            t.forward((width//3))\n",
    "            t.left(90)\n",
    "            t.forward((length//3))\n",
    "            t.left(90)  \n",
    "        t.end_fill()\n",
    "      \n",
    "# Draw dream house\n",
    "rectange(\"Green\", 100, 140, 1)\n",
    "\n",
    "t.up()\n",
    "t.goto(0, 140)\n",
    "t.down()\n",
    "rectange(\"Green\", 100, 140, 1)\n",
    "\n",
    "t.up()\n",
    "t.goto(100, 0)\n",
    "t.down()\n",
    "rectange(\"Green\", 100, 140, 1)\n",
    "\n",
    "t.up()\n",
    "t.goto(100, 140)\n",
    "t.down()\n",
    "rectange(\"Green\", 100, 140, 1)\n",
    "\n",
    "t.up()\n",
    "t.goto(200, 0)\n",
    "t.down()\n",
    "rectange(\"Violet\", 200, 140, 0)\n",
    "t.up()\n",
    "t.goto(250, 0)\n",
    "t.down()\n",
    "rectange(\"Yellow\", 50, 70, 0)\n",
    "t.up()\n",
    "t.goto(300, 0)\n",
    "t.down()\n",
    "rectange(\"Yellow\", 50, 70, 0)\n",
    "\n",
    "turtle.done()\n"
   ]
  },
  {
   "cell_type": "code",
   "execution_count": null,
   "id": "2acf6a7e-caad-48cf-86a2-d930b52efa7e",
   "metadata": {},
   "outputs": [],
   "source": [
    "\n",
    "\n"
   ]
  }
 ],
 "metadata": {
  "kernelspec": {
   "display_name": "Python 3 (ipykernel)",
   "language": "python",
   "name": "python3"
  },
  "language_info": {
   "codemirror_mode": {
    "name": "ipython",
    "version": 3
   },
   "file_extension": ".py",
   "mimetype": "text/x-python",
   "name": "python",
   "nbconvert_exporter": "python",
   "pygments_lexer": "ipython3",
   "version": "3.11.4"
  }
 },
 "nbformat": 4,
 "nbformat_minor": 5
}
