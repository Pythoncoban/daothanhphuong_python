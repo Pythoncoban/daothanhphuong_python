{
 "cells": [
  {
   "cell_type": "code",
   "execution_count": 1,
   "id": "0f9fba38-fdee-4bf5-aaff-6ecf650bb257",
   "metadata": {},
   "outputs": [],
   "source": [
    "import turtle \n",
    "t = turtle.Turtle()\n",
    " \n",
    "m = 100;\n",
    "n = 150;\n",
    " \n",
    "# vẽ cạnh đầu tiên\n",
    "t.forward(m) # đi thẳng với m đơn vị\n",
    "t.left(90)   # quay một góc 90 độ\n",
    " \n",
    "# vẽ cạnh thứ hai\n",
    "t.forward(n) # đi thẳng với n đơn vị\n",
    "t.left(90)   # quay một góc 90 độ\n",
    " \n",
    "# vẽ cạnh thứ ba\n",
    "t.forward(m) # đi thẳng với m đơn vị\n",
    "t.left(90)   # quay một góc 90 độ\n",
    " \n",
    "# vẽ cạnh thứ tư\n",
    "t.forward(n) # đi thẳng với n đơn vị\n",
    "t.left(90)   # quay một góc 90 độ"
   ]
  },
  {
   "cell_type": "code",
   "execution_count": null,
   "id": "13fdd608-e271-49d0-844d-e6215c466e6b",
   "metadata": {},
   "outputs": [],
   "source": []
  }
 ],
 "metadata": {
  "kernelspec": {
   "display_name": "Python 3 (ipykernel)",
   "language": "python",
   "name": "python3"
  },
  "language_info": {
   "codemirror_mode": {
    "name": "ipython",
    "version": 3
   },
   "file_extension": ".py",
   "mimetype": "text/x-python",
   "name": "python",
   "nbconvert_exporter": "python",
   "pygments_lexer": "ipython3",
   "version": "3.11.4"
  }
 },
 "nbformat": 4,
 "nbformat_minor": 5
}
