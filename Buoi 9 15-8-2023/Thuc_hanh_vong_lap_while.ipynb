{
 "cells": [
  {
   "cell_type": "code",
   "execution_count": null,
   "id": "272a3a95",
   "metadata": {},
   "outputs": [],
   "source": [
    "'''\n",
    "Khởi động 1: Viết chương trình in ra tất cả các số chia hết cho cả 5 và 7 trong khoảng từ 1500 đến 2700\n",
    "'''"
   ]
  },
  {
   "cell_type": "code",
   "execution_count": 34,
   "id": "18dbe371",
   "metadata": {},
   "outputs": [
    {
     "name": "stdout",
     "output_type": "stream",
     "text": [
      "1505\n",
      "1540\n",
      "1575\n",
      "1610\n",
      "1645\n",
      "1680\n",
      "1715\n",
      "1750\n",
      "1785\n",
      "1820\n",
      "1855\n",
      "1890\n",
      "1925\n",
      "1960\n",
      "1995\n",
      "2030\n",
      "2065\n",
      "2100\n",
      "2135\n",
      "2170\n",
      "2205\n",
      "2240\n",
      "2275\n",
      "2310\n",
      "2345\n",
      "2380\n",
      "2415\n",
      "2450\n",
      "2485\n",
      "2520\n",
      "2555\n",
      "2590\n",
      "2625\n",
      "2660\n",
      "2695\n"
     ]
    }
   ],
   "source": [
    "count = 1500\n",
    "while count < 2700:\n",
    "    if count % 5 == 0 and count % 7 == 0:\n",
    "        print(count)\n",
    "    count += 1    "
   ]
  },
  {
   "cell_type": "code",
   "execution_count": null,
   "id": "87f74c6c",
   "metadata": {},
   "outputs": [],
   "source": [
    "'''\n",
    "Bài 1: Viết chương trình nhập vào chiều cao tam giác vuông và in ra tam giác có hình dạng như sau:\n",
    "*****\n",
    "****\n",
    "***\n",
    "** \n",
    "*\n",
    "'''"
   ]
  },
  {
   "cell_type": "code",
   "execution_count": 1,
   "id": "cfa07cee-ce02-4194-93ae-e6c25c900c0f",
   "metadata": {},
   "outputs": [
    {
     "name": "stdin",
     "output_type": "stream",
     "text": [
      "Please enter the altitude:  5\n"
     ]
    },
    {
     "name": "stdout",
     "output_type": "stream",
     "text": [
      "*****\n",
      "****\n",
      "***\n",
      "**\n",
      "*\n"
     ]
    }
   ],
   "source": [
    "altitude = int(input(\"Please enter the altitude: \"))\n",
    "while altitude >= 1:\n",
    "    print(\"*\"*altitude)\n",
    "    altitude -= 1"
   ]
  },
  {
   "cell_type": "code",
   "execution_count": null,
   "id": "ea4c14a8",
   "metadata": {},
   "outputs": [],
   "source": [
    "'''\n",
    "Bài 2: Viết chương trình nhập vào chiều cao tam giác vuông và in ra tam giác có hình dạng như sau:\n",
    "* * * * * *\n",
    "* * * * *\n",
    "* * * *\n",
    "* * *\n",
    "* *\n",
    "*\n",
    "'''"
   ]
  },
  {
   "cell_type": "code",
   "execution_count": 4,
   "id": "7ad3eb7f-6847-4e65-bc31-d7bd55f9498a",
   "metadata": {},
   "outputs": [
    {
     "name": "stdin",
     "output_type": "stream",
     "text": [
      "Please enter the altitude:  6\n"
     ]
    },
    {
     "name": "stdout",
     "output_type": "stream",
     "text": [
      "* * * * * * \n",
      "* * * * * \n",
      "* * * * \n",
      "* * * \n",
      "* * \n",
      "* \n"
     ]
    }
   ],
   "source": [
    "altitude = int(input(\"Please enter the altitude: \"))\n",
    "while altitude >= 1:\n",
    "    print(\"* \"*altitude)\n",
    "    altitude -= 1"
   ]
  },
  {
   "cell_type": "code",
   "execution_count": null,
   "id": "bd17e085",
   "metadata": {},
   "outputs": [],
   "source": [
    "'''\n",
    "Bài 3: Viết chương trình nhập vào chiều cao tam giác vuông và in ra tam giác có hình dạng như sau:\n",
    "* - * - *\n",
    "* - * -\n",
    "* - *\n",
    "* -\n",
    "*\n",
    "'''"
   ]
  },
  {
   "cell_type": "code",
   "execution_count": 17,
   "id": "7b637fc5-956a-4296-95d9-97b32a8a9719",
   "metadata": {},
   "outputs": [
    {
     "name": "stdin",
     "output_type": "stream",
     "text": [
      "Please enter the altitude:  5\n"
     ]
    },
    {
     "name": "stdout",
     "output_type": "stream",
     "text": [
      "* - * - *\n",
      "* - * - \n",
      "* - *\n",
      "* - \n",
      "*\n"
     ]
    }
   ],
   "source": [
    "# Cách 1\n",
    "altitude = int(input(\"Please enter the altitude: \"))\n",
    "while altitude >= 1:\n",
    "    if altitude % 2 == 0:\n",
    "        n = altitude // 2\n",
    "        print(\"* - \"*n)\n",
    "    else: \n",
    "        n = (altitude-1) // 2\n",
    "        print(\"* - \"*n + \"*\")\n",
    "    altitude -= 1"
   ]
  },
  {
   "cell_type": "code",
   "execution_count": 33,
   "id": "2ccb9beb-c24a-4f0f-a9b8-d1ce123815cf",
   "metadata": {},
   "outputs": [
    {
     "name": "stdin",
     "output_type": "stream",
     "text": [
      "Please enter the altitude:  5\n"
     ]
    },
    {
     "name": "stdout",
     "output_type": "stream",
     "text": [
      "* - * - * \n",
      "* - * - \n",
      "* - * \n",
      "* - \n",
      "* \n"
     ]
    }
   ],
   "source": [
    "# Cách 2\n",
    "altitude = int(input(\"Please enter the altitude: \"))\n",
    "altitude_2 = altitude\n",
    "count_1 = 1\n",
    "while count_1 <= altitude:\n",
    "    count_1 += 1\n",
    "    count_2 = 1\n",
    "    while count_2 <= altitude_2:\n",
    "        if count_2 % 2 == 0:\n",
    "            print(\"-\", end = \" \")\n",
    "        else: print(\"*\", end = \" \")\n",
    "        count_2 += 1    \n",
    "    print()\n",
    "    altitude_2 -= 1"
   ]
  },
  {
   "cell_type": "code",
   "execution_count": null,
   "id": "105b66bc",
   "metadata": {},
   "outputs": [],
   "source": [
    "'''\n",
    "Bài 4: Viết chương trình nhập vào một số nguyên n và in ra các số từ 1 đến n với các trường hợp ngoại lệ như sau:\n",
    "- Nếu số đó chia hết cho 3 thì in \"py\"\n",
    "- Nếu số đó chia hết cho 7 thì in \"thon\"\n",
    "- Nếu số đó chia hết cho cả 3 và 7 thì in \"python\"\n",
    "\n",
    "Ví dụ: n = 25\n",
    "1\n",
    "2\n",
    "py\n",
    "4\n",
    "5\n",
    "py\n",
    "thon\n",
    "8\n",
    "py\n",
    "10\n",
    "11\n",
    "py\n",
    "13\n",
    "thon\n",
    "py\n",
    "16\n",
    "17\n",
    "py\n",
    "19\n",
    "20\n",
    "python\n",
    "22\n",
    "23\n",
    "py\n",
    "25\n",
    "'''"
   ]
  },
  {
   "cell_type": "code",
   "execution_count": 20,
   "id": "f625be35-443b-4734-8c0f-bef3759249f2",
   "metadata": {},
   "outputs": [
    {
     "name": "stdin",
     "output_type": "stream",
     "text": [
      "Please enter integer num:  25\n"
     ]
    },
    {
     "name": "stdout",
     "output_type": "stream",
     "text": [
      "1\n",
      "2\n",
      "py\n",
      "4\n",
      "5\n",
      "py\n",
      "thon\n",
      "8\n",
      "py\n",
      "10\n",
      "11\n",
      "py\n",
      "13\n",
      "thon\n",
      "py\n",
      "16\n",
      "17\n",
      "py\n",
      "19\n",
      "20\n",
      "python\n",
      "22\n",
      "23\n",
      "py\n",
      "25\n"
     ]
    }
   ],
   "source": [
    "num = int(input(\"Please enter integer num: \"))\n",
    "count = 1\n",
    "while count <= num:\n",
    "    if count % 3 == 0 and count % 7 == 0:\n",
    "        print(\"python\")\n",
    "    elif count % 3 == 0:\n",
    "        print(\"py\")\n",
    "    elif count % 7 == 0:\n",
    "        print(\"thon\")\n",
    "    else: print(count)\n",
    "    count += 1"
   ]
  },
  {
   "cell_type": "code",
   "execution_count": null,
   "id": "3689744c",
   "metadata": {},
   "outputs": [],
   "source": [
    "'''\n",
    "Bài 5: Viết chương trình nhập vào một số và kiểm tra xem số đó có phải là số nguyên tố hay không\n",
    "Note: Số nguyên tố là số chỉ chia hết cho 1 và chính nó\n",
    "'''"
   ]
  },
  {
   "cell_type": "code",
   "execution_count": 18,
   "id": "1aa5c577-79b7-4f4c-8b71-a1228e3c88d7",
   "metadata": {},
   "outputs": [
    {
     "name": "stdin",
     "output_type": "stream",
     "text": [
      "Please enter integer num:  11\n"
     ]
    },
    {
     "name": "stdout",
     "output_type": "stream",
     "text": [
      "Số 11 là số nguyên tố\n"
     ]
    }
   ],
   "source": [
    "num = int(input(\"Please enter integer num: \"))\n",
    "count = 1\n",
    "count_divisor = 0\n",
    "while count <= num:\n",
    "    if num % count == 0:\n",
    "        count_divisor += 1\n",
    "    count += 1\n",
    "if count_divisor > 2:\n",
    "    print(f\"Số {num} không phải là số nguyên tố\")\n",
    "else: print(f\"Số {num} là số nguyên tố\")    "
   ]
  },
  {
   "cell_type": "code",
   "execution_count": null,
   "id": "d76fa311",
   "metadata": {},
   "outputs": [],
   "source": [
    "'''\n",
    "Bài 6: Viết chương trình mô phỏng trò chơi kéo búa bao theo luật chơi như sau:\n",
    "Quy ước: 1 - búa, 2 - kéo, 3 - bao\n",
    "Khi trò chơi bắt đầu, yêu cầu người chơi nhập 1 số từ bàn phím đại diện cho kéo, búa, bao\n",
    "Chương trình tự random ra một lựa chọn từ 1 đến 3.\n",
    "Nếu người chơi thua thì tiếp tục chơi cho đến khi thắng thì kết thúc chương trình.\n",
    "Ví dụ:\n",
    "\n",
    "Mời lựa chọn(1 - búa, 2 - kéo, 3 - bao): 1\n",
    "Máy tính chọn: 3\n",
    "Người chơi thua.\n",
    "\n",
    "Mời lựa chọn(1 - búa, 2 - kéo, 3 - bao): 2\n",
    "Máy tính chọn: 1\n",
    "Người chơi thua.\n",
    "\n",
    "Mời lựa chọn(1 - búa, 2 - kéo, 3 - bao): 1\n",
    "Máy tính chọn: 2\n",
    "Người chơi thắng.\n",
    "'''"
   ]
  },
  {
   "cell_type": "code",
   "execution_count": 8,
   "id": "b7a79cfb-6a41-4a5e-97ac-c08306c468d9",
   "metadata": {},
   "outputs": [
    {
     "name": "stdin",
     "output_type": "stream",
     "text": [
      "Mời lựa chọn (1 - búa, 2 - kéo, 3 - bao):  1\n"
     ]
    },
    {
     "name": "stdout",
     "output_type": "stream",
     "text": [
      "Lựa chọn của máy là: 1\n",
      "Người chơi và máy hòa nhau\n"
     ]
    },
    {
     "name": "stdin",
     "output_type": "stream",
     "text": [
      "Mời lựa chọn (1 - búa, 2 - kéo, 3 - bao):  3\n"
     ]
    },
    {
     "name": "stdout",
     "output_type": "stream",
     "text": [
      "Lựa chọn của máy là: 2\n",
      "Người chơi thua cuộc\n"
     ]
    },
    {
     "name": "stdin",
     "output_type": "stream",
     "text": [
      "Mời lựa chọn (1 - búa, 2 - kéo, 3 - bao):  2\n"
     ]
    },
    {
     "name": "stdout",
     "output_type": "stream",
     "text": [
      "Lựa chọn của máy là: 2\n",
      "Người chơi và máy hòa nhau\n"
     ]
    },
    {
     "name": "stdin",
     "output_type": "stream",
     "text": [
      "Mời lựa chọn (1 - búa, 2 - kéo, 3 - bao):  1\n"
     ]
    },
    {
     "name": "stdout",
     "output_type": "stream",
     "text": [
      "Lựa chọn của máy là: 1\n",
      "Người chơi và máy hòa nhau\n"
     ]
    },
    {
     "name": "stdin",
     "output_type": "stream",
     "text": [
      "Mời lựa chọn (1 - búa, 2 - kéo, 3 - bao):  3\n"
     ]
    },
    {
     "name": "stdout",
     "output_type": "stream",
     "text": [
      "Lựa chọn của máy là: 2\n",
      "Người chơi thua cuộc\n"
     ]
    },
    {
     "name": "stdin",
     "output_type": "stream",
     "text": [
      "Mời lựa chọn (1 - búa, 2 - kéo, 3 - bao):  1\n"
     ]
    },
    {
     "name": "stdout",
     "output_type": "stream",
     "text": [
      "Lựa chọn của máy là: 3\n",
      "Người chơi thua cuộc\n"
     ]
    },
    {
     "name": "stdin",
     "output_type": "stream",
     "text": [
      "Mời lựa chọn (1 - búa, 2 - kéo, 3 - bao):  2\n"
     ]
    },
    {
     "name": "stdout",
     "output_type": "stream",
     "text": [
      "Lựa chọn của máy là: 1\n",
      "Người chơi thua cuộc\n"
     ]
    },
    {
     "name": "stdin",
     "output_type": "stream",
     "text": [
      "Mời lựa chọn (1 - búa, 2 - kéo, 3 - bao):  3\n"
     ]
    },
    {
     "name": "stdout",
     "output_type": "stream",
     "text": [
      "Lựa chọn của máy là: 3\n",
      "Người chơi và máy hòa nhau\n"
     ]
    },
    {
     "name": "stdin",
     "output_type": "stream",
     "text": [
      "Mời lựa chọn (1 - búa, 2 - kéo, 3 - bao):  1\n"
     ]
    },
    {
     "name": "stdout",
     "output_type": "stream",
     "text": [
      "Lựa chọn của máy là: 3\n",
      "Người chơi thua cuộc\n"
     ]
    },
    {
     "name": "stdin",
     "output_type": "stream",
     "text": [
      "Mời lựa chọn (1 - búa, 2 - kéo, 3 - bao):  2\n"
     ]
    },
    {
     "name": "stdout",
     "output_type": "stream",
     "text": [
      "Lựa chọn của máy là: 1\n",
      "Người chơi thua cuộc\n"
     ]
    },
    {
     "name": "stdin",
     "output_type": "stream",
     "text": [
      "Mời lựa chọn (1 - búa, 2 - kéo, 3 - bao):  1\n"
     ]
    },
    {
     "name": "stdout",
     "output_type": "stream",
     "text": [
      "Lựa chọn của máy là: 1\n",
      "Người chơi và máy hòa nhau\n"
     ]
    },
    {
     "name": "stdin",
     "output_type": "stream",
     "text": [
      "Mời lựa chọn (1 - búa, 2 - kéo, 3 - bao):  3\n"
     ]
    },
    {
     "name": "stdout",
     "output_type": "stream",
     "text": [
      "Lựa chọn của máy là: 2\n",
      "Người chơi thua cuộc\n"
     ]
    },
    {
     "name": "stdin",
     "output_type": "stream",
     "text": [
      "Mời lựa chọn (1 - búa, 2 - kéo, 3 - bao):  1\n"
     ]
    },
    {
     "name": "stdout",
     "output_type": "stream",
     "text": [
      "Lựa chọn của máy là: 3\n",
      "Người chơi thua cuộc\n"
     ]
    },
    {
     "name": "stdin",
     "output_type": "stream",
     "text": [
      "Mời lựa chọn (1 - búa, 2 - kéo, 3 - bao):  1\n"
     ]
    },
    {
     "name": "stdout",
     "output_type": "stream",
     "text": [
      "Lựa chọn của máy là: 2\n",
      "Người chơi thắng cuộc\n"
     ]
    }
   ],
   "source": [
    "import random\n",
    "result = 0\n",
    "while result == 0:\n",
    "    user_choise = int(input(\"Mời lựa chọn (1 - búa, 2 - kéo, 3 - bao): \"))\n",
    "    machine_choise = random.randint(1, 3)\n",
    "    print(f\"Lựa chọn của máy là: {machine_choise}\")\n",
    "    if user_choise == machine_choise:\n",
    "        print(\"Người chơi và máy hòa nhau\")\n",
    "    else:  \n",
    "            if user_choise < machine_choise:\n",
    "                if user_choise == 1 and machine_choise ==3:\n",
    "                    print(\"Người chơi thua cuộc\")\n",
    "                else: \n",
    "                    print(\"Người chơi thắng cuộc\")\n",
    "                    result = 1\n",
    "            else: \n",
    "                if user_choise == 3 and machine_choise == 1:\n",
    "                    print(\"Người chơi thắng cuộc\")\n",
    "                    result = 1\n",
    "                else: print(\"Người chơi thua cuộc\")"
   ]
  }
 ],
 "metadata": {
  "kernelspec": {
   "display_name": "Python 3 (ipykernel)",
   "language": "python",
   "name": "python3"
  },
  "language_info": {
   "codemirror_mode": {
    "name": "ipython",
    "version": 3
   },
   "file_extension": ".py",
   "mimetype": "text/x-python",
   "name": "python",
   "nbconvert_exporter": "python",
   "pygments_lexer": "ipython3",
   "version": "3.11.4"
  }
 },
 "nbformat": 4,
 "nbformat_minor": 5
}
