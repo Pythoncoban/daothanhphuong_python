{
 "cells": [
  {
   "cell_type": "code",
   "execution_count": 2,
   "id": "fe1af50b-a21f-42ce-9917-941059397bd5",
   "metadata": {},
   "outputs": [
    {
     "name": "stdout",
     "output_type": "stream",
     "text": [
      "Hello World\n"
     ]
    }
   ],
   "source": [
    "print(\"Hello World\")"
   ]
  },
  {
   "cell_type": "code",
   "execution_count": 4,
   "id": "87c90ba9-b2d0-4155-a72f-f3ffca8ce79b",
   "metadata": {},
   "outputs": [
    {
     "name": "stdout",
     "output_type": "stream",
     "text": [
      "hehe\n"
     ]
    }
   ],
   "source": [
    "print(\"hehe\")"
   ]
  },
  {
   "cell_type": "code",
   "execution_count": 3,
   "id": "f4aa30dd-0893-4845-8e3e-a842472c62db",
   "metadata": {},
   "outputs": [
    {
     "name": "stdout",
     "output_type": "stream",
     "text": [
      "Con meo treo cay cau hoi tham chu chuot di dau vang nha\n"
     ]
    }
   ],
   "source": [
    "print(\"Con meo treo cay cau hoi tham chu chuot di dau vang nha\")"
   ]
  },
  {
   "cell_type": "code",
   "execution_count": null,
   "id": "ab2df551-2192-41e1-8e63-ce43dabb78c0",
   "metadata": {},
   "outputs": [],
   "source": []
  },
  {
   "cell_type": "code",
   "execution_count": null,
   "id": "6d3a1421-5918-4792-a57f-883aab22e315",
   "metadata": {},
   "outputs": [],
   "source": []
  }
 ],
 "metadata": {
  "kernelspec": {
   "display_name": "Python 3 (ipykernel)",
   "language": "python",
   "name": "python3"
  },
  "language_info": {
   "codemirror_mode": {
    "name": "ipython",
    "version": 3
   },
   "file_extension": ".py",
   "mimetype": "text/x-python",
   "name": "python",
   "nbconvert_exporter": "python",
   "pygments_lexer": "ipython3",
   "version": "3.11.4"
  }
 },
 "nbformat": 4,
 "nbformat_minor": 5
}
